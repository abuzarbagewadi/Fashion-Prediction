{
  "nbformat": 4,
  "nbformat_minor": 0,
  "metadata": {
    "colab": {
      "name": "Fashion_Prediction.ipynb",
      "provenance": [],
      "collapsed_sections": [],
      "authorship_tag": "ABX9TyNqlywfIT801ICYix4yExZ8",
      "include_colab_link": true
    },
    "kernelspec": {
      "name": "python3",
      "display_name": "Python 3"
    },
    "accelerator": "GPU"
  },
  "cells": [
    {
      "cell_type": "markdown",
      "metadata": {
        "id": "view-in-github",
        "colab_type": "text"
      },
      "source": [
        "<a href=\"https://colab.research.google.com/github/abuzarbagewadi/Fashion-Prediction/blob/master/Fashion_Prediction.ipynb\" target=\"_parent\"><img src=\"https://colab.research.google.com/assets/colab-badge.svg\" alt=\"Open In Colab\"/></a>"
      ]
    },
    {
      "cell_type": "code",
      "metadata": {
        "id": "Fsq4qtb2kdSB",
        "colab_type": "code",
        "colab": {
          "base_uri": "https://localhost:8080/",
          "height": 1000
        },
        "outputId": "e393a921-07da-4985-cfaf-281c0c664a96"
      },
      "source": [
        "import tensorflow as tf\n",
        "from tensorflow import keras\n",
        "import numpy as np\n",
        "import matplotlib.pyplot as plt\n",
        "\n",
        "data =keras.datasets.fashion_mnist\n",
        "\n",
        "(train_images, train_labels), (test_images, test_labels) = data.load_data()\n",
        "\n",
        "class_names = ['T-shirt/top', 'Trouser', 'Pullover', 'Dress','Coat', 'Sandal', 'Shirt', 'Sneaker', 'Bag', 'Ankle Boot' ]\n",
        "\n",
        "train_images = train_images/255.0\n",
        "test_images = test_images/255.0\n",
        "\n",
        "model = keras.Sequential([\n",
        "                keras.layers.Flatten(input_shape=(28,28)),\n",
        "                keras.layers.Dense(128, activation=\"relu\"),\n",
        "                keras.layers.Dense(10, activation=\"softmax\")\n",
        "                          ])\n",
        "\n",
        "model.compile(optimizer=\"adam\", loss=\"sparse_categorical_crossentropy\", metrics=[\"accuracy\"])\n",
        "\n",
        "model.fit(train_images, train_labels, epochs=37)\n",
        "\n",
        "prediction = model.predict(test_images)\n",
        "\n",
        "test_loss, test_acc = model.evaluate(test_images, test_labels)\n",
        "\n",
        "print(\"Accuracy: \", test_acc)\n",
        "\n",
        "for i in range(5):\n",
        "    plt.grid(False)\n",
        "    plt.imshow(test_images[i], cmap = plt.cm.binary)\n",
        "    plt.xlabel(\"Actual: \" + class_names[test_labels[i]])\n",
        "    plt.xlabel(\"Prediction: \" + class_names[np.argmax(prediction[i])])\n",
        "    plt.show()\n",
        "\n",
        "\n"
      ],
      "execution_count": 7,
      "outputs": [
        {
          "output_type": "stream",
          "text": [
            "Epoch 1/37\n",
            "1875/1875 [==============================] - 4s 2ms/step - loss: 0.4972 - accuracy: 0.8238\n",
            "Epoch 2/37\n",
            "1875/1875 [==============================] - 5s 3ms/step - loss: 0.3781 - accuracy: 0.8630\n",
            "Epoch 3/37\n",
            "1875/1875 [==============================] - 5s 3ms/step - loss: 0.3386 - accuracy: 0.8769\n",
            "Epoch 4/37\n",
            "1875/1875 [==============================] - 5s 3ms/step - loss: 0.3131 - accuracy: 0.8855\n",
            "Epoch 5/37\n",
            "1875/1875 [==============================] - 4s 2ms/step - loss: 0.2959 - accuracy: 0.8918\n",
            "Epoch 6/37\n",
            "1875/1875 [==============================] - 4s 2ms/step - loss: 0.2819 - accuracy: 0.8956\n",
            "Epoch 7/37\n",
            "1875/1875 [==============================] - 4s 2ms/step - loss: 0.2700 - accuracy: 0.8996\n",
            "Epoch 8/37\n",
            "1875/1875 [==============================] - 4s 2ms/step - loss: 0.2589 - accuracy: 0.9034\n",
            "Epoch 9/37\n",
            "1875/1875 [==============================] - 4s 2ms/step - loss: 0.2499 - accuracy: 0.9069\n",
            "Epoch 10/37\n",
            "1875/1875 [==============================] - 4s 2ms/step - loss: 0.2411 - accuracy: 0.9100\n",
            "Epoch 11/37\n",
            "1875/1875 [==============================] - 4s 2ms/step - loss: 0.2343 - accuracy: 0.9127\n",
            "Epoch 12/37\n",
            "1875/1875 [==============================] - 4s 2ms/step - loss: 0.2264 - accuracy: 0.9147\n",
            "Epoch 13/37\n",
            "1875/1875 [==============================] - 4s 2ms/step - loss: 0.2204 - accuracy: 0.9176\n",
            "Epoch 14/37\n",
            "1875/1875 [==============================] - 4s 2ms/step - loss: 0.2135 - accuracy: 0.9194\n",
            "Epoch 15/37\n",
            "1875/1875 [==============================] - 4s 2ms/step - loss: 0.2085 - accuracy: 0.9216\n",
            "Epoch 16/37\n",
            "1875/1875 [==============================] - 4s 2ms/step - loss: 0.2005 - accuracy: 0.9245\n",
            "Epoch 17/37\n",
            "1875/1875 [==============================] - 4s 2ms/step - loss: 0.1979 - accuracy: 0.9258\n",
            "Epoch 18/37\n",
            "1875/1875 [==============================] - 4s 2ms/step - loss: 0.1911 - accuracy: 0.9285\n",
            "Epoch 19/37\n",
            "1875/1875 [==============================] - 4s 2ms/step - loss: 0.1852 - accuracy: 0.9303\n",
            "Epoch 20/37\n",
            "1875/1875 [==============================] - 4s 2ms/step - loss: 0.1820 - accuracy: 0.9320\n",
            "Epoch 21/37\n",
            "1875/1875 [==============================] - 4s 2ms/step - loss: 0.1762 - accuracy: 0.9343\n",
            "Epoch 22/37\n",
            "1875/1875 [==============================] - 4s 2ms/step - loss: 0.1730 - accuracy: 0.9349\n",
            "Epoch 23/37\n",
            "1875/1875 [==============================] - 4s 2ms/step - loss: 0.1681 - accuracy: 0.9375\n",
            "Epoch 24/37\n",
            "1875/1875 [==============================] - 4s 2ms/step - loss: 0.1630 - accuracy: 0.9387\n",
            "Epoch 25/37\n",
            "1875/1875 [==============================] - 4s 2ms/step - loss: 0.1601 - accuracy: 0.9396\n",
            "Epoch 26/37\n",
            "1875/1875 [==============================] - 4s 2ms/step - loss: 0.1569 - accuracy: 0.9407\n",
            "Epoch 27/37\n",
            "1875/1875 [==============================] - 4s 2ms/step - loss: 0.1522 - accuracy: 0.9434\n",
            "Epoch 28/37\n",
            "1875/1875 [==============================] - 4s 2ms/step - loss: 0.1505 - accuracy: 0.9428\n",
            "Epoch 29/37\n",
            "1875/1875 [==============================] - 4s 2ms/step - loss: 0.1456 - accuracy: 0.9449\n",
            "Epoch 30/37\n",
            "1875/1875 [==============================] - 4s 2ms/step - loss: 0.1431 - accuracy: 0.9464\n",
            "Epoch 31/37\n",
            "1875/1875 [==============================] - 4s 2ms/step - loss: 0.1387 - accuracy: 0.9481\n",
            "Epoch 32/37\n",
            "1875/1875 [==============================] - 4s 2ms/step - loss: 0.1375 - accuracy: 0.9481\n",
            "Epoch 33/37\n",
            "1875/1875 [==============================] - 4s 2ms/step - loss: 0.1334 - accuracy: 0.9495\n",
            "Epoch 34/37\n",
            "1875/1875 [==============================] - 4s 2ms/step - loss: 0.1322 - accuracy: 0.9502\n",
            "Epoch 35/37\n",
            "1875/1875 [==============================] - 4s 2ms/step - loss: 0.1288 - accuracy: 0.9520\n",
            "Epoch 36/37\n",
            "1875/1875 [==============================] - 5s 2ms/step - loss: 0.1261 - accuracy: 0.9522\n",
            "Epoch 37/37\n",
            "1875/1875 [==============================] - 4s 2ms/step - loss: 0.1223 - accuracy: 0.9536\n",
            "313/313 [==============================] - 1s 2ms/step - loss: 0.4607 - accuracy: 0.8816\n",
            "Accuracy:  0.881600022315979\n"
          ],
          "name": "stdout"
        },
        {
          "output_type": "display_data",
          "data": {
            "image/png": "[encoded data removed]",
            "text/plain": [
              "<Figure size 432x288 with 1 Axes>"
            ]
          },
          "metadata": {
            "tags": [],
            "needs_background": "light"
          }
        },
        {
          "output_type": "display_data",
          "data": {
            "image/png": "[encoded data removed]",
            "text/plain": [
              "<Figure size 432x288 with 1 Axes>"
            ]
          },
          "metadata": {
            "tags": [],
            "needs_background": "light"
          }
        },
        {
          "output_type": "display_data",
          "data": {
            "image/png": "[encoded data removed]",
            "text/plain": [
              "<Figure size 432x288 with 1 Axes>"
            ]
          },
          "metadata": {
            "tags": [],
            "needs_background": "light"
          }
        },
        {
          "output_type": "display_data",
          "data": {
            "image/png": "[encoded data removed]",
            "text/plain": [
              "<Figure size 432x288 with 1 Axes>"
            ]
          },
          "metadata": {
            "tags": [],
            "needs_background": "light"
          }
        },
        {
          "output_type": "display_data",
          "data": {
            "image/png": "[encoded data removed]",
            "text/plain": [
              "<Figure size 432x288 with 1 Axes>"
            ]
          },
          "metadata": {
            "tags": [],
            "needs_background": "light"
          }
        }
      ]
    },
    {
      "cell_type": "markdown",
      "metadata": {
        "id": "JCvPOwMtkc2x",
        "colab_type": "text"
      },
      "source": [
        ""
      ]
    }
  ]
}